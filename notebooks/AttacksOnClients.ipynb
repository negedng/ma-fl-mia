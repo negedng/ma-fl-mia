{
 "cells": [
  {
   "cell_type": "code",
   "execution_count": 4,
   "metadata": {},
   "outputs": [],
   "source": [
    "%matplotlib inline\n",
    "import numpy as np\n",
    "import pandas as pd\n",
    "import tensorflow as tf \n",
    "import tensorflow_datasets as tfds\n",
    "import os\n",
    "\n",
    "\n",
    "import sys\n",
    "sys.path.append('/data/codes/ma-fl-mia/')\n",
    "from src import utils\n",
    "from src import models\n",
    "from src import data_preparation\n",
    "\n",
    "conf = utils.load_config('/data/codes/ma-fl-mia/env.json', '/data/codes/ma-fl-mia/config.json')"
   ]
  },
  {
   "cell_type": "code",
   "execution_count": 5,
   "metadata": {},
   "outputs": [],
   "source": [
    "train_ds, test_ds = tfds.load('cifar10', split=['train','test'], as_supervised=True)\n",
    "X_train, Y_train = utils.get_np_from_tfds(train_ds)\n",
    "conf['len_total_data'] = len(X_train)\n",
    "X_split, Y_split = data_preparation.split_data(X_train, Y_train, conf['num_clients'], split_mode=conf['split_mode'],\n",
    "                                               mode=\"clients\", seed=conf['seed'], dirichlet_alpha=conf['dirichlet_alpha'])"
   ]
  },
  {
   "cell_type": "code",
   "execution_count": 16,
   "metadata": {},
   "outputs": [],
   "source": [
    "cid = 6\n",
    "\n",
    "x_train = X_split[cid]\n",
    "y_train = Y_split[cid]"
   ]
  },
  {
   "cell_type": "code",
   "execution_count": 17,
   "metadata": {},
   "outputs": [],
   "source": [
    "root_path = '/data/models/ma-fl-mia/federated/'\n",
    "model_id = '20230510-112534'\n",
    "epoch_id = 'saved_model_post_70'"
   ]
  },
  {
   "cell_type": "code",
   "execution_count": 18,
   "metadata": {},
   "outputs": [],
   "source": [
    "import json\n",
    "with open(os.path.join(root_path,model_id,\"config.json\")) as json_file:\n",
    "    m_conf =  json.load(json_file)"
   ]
  },
  {
   "cell_type": "code",
   "execution_count": 19,
   "metadata": {},
   "outputs": [],
   "source": [
    "m_path = os.path.join(root_path,model_id,'clients',str(cid),epoch_id)\n",
    "\n",
    "model = models.get_model(unit_size=m_conf['unit_size']-10, conf=conf)\n",
    "model.load_weights(os.path.join(m_path))\n",
    "model.compile(optimizer=models.get_optimizer(),\n",
    "              loss=models.get_loss(),\n",
    "              metrics=[\"accuracy\"])"
   ]
  },
  {
   "cell_type": "code",
   "execution_count": 20,
   "metadata": {},
   "outputs": [
    {
     "name": "stdout",
     "output_type": "stream",
     "text": [
      "40/40 [==============================] - 1s 11ms/step - loss: 0.6267 - accuracy: 0.8650\n",
      "79/79 [==============================] - 1s 10ms/step - loss: 0.8934 - accuracy: 0.7094\n",
      "4/4 [==============================] - 0s 44ms/step\n"
     ]
    },
    {
     "name": "stderr",
     "output_type": "stream",
     "text": [
      "100%|██████████| 100/100 [00:00<00:00, 421.67it/s]"
     ]
    },
    {
     "name": "stdout",
     "output_type": "stream",
     "text": [
      "1/4 [======>.......................] - ETA: 0s"
     ]
    },
    {
     "name": "stderr",
     "output_type": "stream",
     "text": [
      "\n"
     ]
    },
    {
     "name": "stdout",
     "output_type": "stream",
     "text": [
      "4/4 [==============================] - 0s 3ms/step\n"
     ]
    },
    {
     "name": "stderr",
     "output_type": "stream",
     "text": [
      "100%|██████████| 100/100 [00:00<00:00, 394.71it/s]\n"
     ]
    },
    {
     "name": "stdout",
     "output_type": "stream",
     "text": [
      "313/313 [==============================] - 1s 3ms/step\n"
     ]
    },
    {
     "name": "stderr",
     "output_type": "stream",
     "text": [
      "100%|██████████| 10000/10000 [00:22<00:00, 435.85it/s]\n"
     ]
    }
   ],
   "source": [
    "from src import metrics\n",
    "\n",
    "train_c_ds = tf.data.Dataset.from_tensor_slices((x_train,y_train))\n",
    "r = metrics.evaluate(m_conf, model, train_c_ds, None, test_ds)"
   ]
  },
  {
   "cell_type": "code",
   "execution_count": 21,
   "metadata": {},
   "outputs": [
    {
     "data": {
      "text/plain": [
       "{'test_acc': 0.7093999981880188,\n",
       " 'val_acc': None,\n",
       " 'train_acc': 0.8650000095367432,\n",
       " 'unit_size': 54,\n",
       " 'alpha': 1.0,\n",
       " 'model_id': '20230510-112534',\n",
       " 'params': 739826,\n",
       " 'model_mode': 'diao_CNN',\n",
       " 'scale_mode': -10,\n",
       " 'ma_mode': 'rm-cid',\n",
       " 'adv_std': 14.580000000000002,\n",
       " 'adv_pow': 14.7,\n",
       " 'adv_cls': 14.14}"
      ]
     },
     "execution_count": 21,
     "metadata": {},
     "output_type": "execute_result"
    }
   ],
   "source": [
    "r"
   ]
  },
  {
   "cell_type": "code",
   "execution_count": 22,
   "metadata": {},
   "outputs": [],
   "source": [
    "m_path = os.path.join(root_path,model_id,\"saved_model\")\n",
    "\n",
    "model_global = models.get_model(unit_size=m_conf['unit_size'], conf=conf)\n",
    "model_global.load_weights(os.path.join(m_path))\n",
    "model_global.compile(optimizer=models.get_optimizer(),\n",
    "              loss=models.get_loss(),\n",
    "              metrics=[\"accuracy\"])"
   ]
  },
  {
   "cell_type": "code",
   "execution_count": 23,
   "metadata": {},
   "outputs": [
    {
     "name": "stdout",
     "output_type": "stream",
     "text": [
      "391/391 [==============================] - 5s 12ms/step - loss: 0.5704 - accuracy: 0.8008\n",
      "79/79 [==============================] - 1s 12ms/step - loss: 0.7392 - accuracy: 0.7491\n",
      "4/4 [==============================] - 0s 47ms/step\n"
     ]
    },
    {
     "name": "stderr",
     "output_type": "stream",
     "text": [
      "100%|██████████| 100/100 [00:00<00:00, 409.47it/s]\n"
     ]
    },
    {
     "name": "stdout",
     "output_type": "stream",
     "text": [
      "4/4 [==============================] - 0s 4ms/step\n"
     ]
    },
    {
     "name": "stderr",
     "output_type": "stream",
     "text": [
      "100%|██████████| 100/100 [00:00<00:00, 363.72it/s]\n"
     ]
    },
    {
     "name": "stdout",
     "output_type": "stream",
     "text": [
      "313/313 [==============================] - 1s 4ms/step\n"
     ]
    },
    {
     "name": "stderr",
     "output_type": "stream",
     "text": [
      "100%|██████████| 10000/10000 [00:22<00:00, 441.10it/s]\n"
     ]
    }
   ],
   "source": [
    "r = metrics.evaluate(m_conf, model_global, train_ds, None, test_ds)"
   ]
  },
  {
   "cell_type": "code",
   "execution_count": 24,
   "metadata": {},
   "outputs": [
    {
     "data": {
      "text/plain": [
       "{'test_acc': 0.7491000294685364,\n",
       " 'val_acc': None,\n",
       " 'train_acc': 0.800819993019104,\n",
       " 'unit_size': 54,\n",
       " 'alpha': 1.0,\n",
       " 'model_id': '20230510-112534',\n",
       " 'params': 1112086,\n",
       " 'model_mode': 'diao_CNN',\n",
       " 'scale_mode': -10,\n",
       " 'ma_mode': 'rm-cid',\n",
       " 'adv_std': 7.28,\n",
       " 'adv_pow': 7.5,\n",
       " 'adv_cls': 6.54}"
      ]
     },
     "execution_count": 24,
     "metadata": {},
     "output_type": "execute_result"
    }
   ],
   "source": [
    "r"
   ]
  },
  {
   "cell_type": "code",
   "execution_count": null,
   "metadata": {},
   "outputs": [],
   "source": []
  },
  {
   "cell_type": "code",
   "execution_count": 26,
   "metadata": {},
   "outputs": [
    {
     "name": "stdout",
     "output_type": "stream",
     "text": [
      "40/40 [==============================] - 1s 8ms/step - loss: 0.6138 - accuracy: 0.7876\n",
      "79/79 [==============================] - 1s 7ms/step - loss: 0.8283 - accuracy: 0.7196\n",
      "4/4 [==============================] - 0s 3ms/step\n"
     ]
    },
    {
     "name": "stderr",
     "output_type": "stream",
     "text": [
      "100%|██████████| 100/100 [00:00<00:00, 444.45it/s]"
     ]
    },
    {
     "name": "stdout",
     "output_type": "stream",
     "text": [
      "4/4 [==============================] - 0s 4ms/step\n"
     ]
    },
    {
     "name": "stderr",
     "output_type": "stream",
     "text": [
      "\n",
      "100%|██████████| 100/100 [00:00<00:00, 427.11it/s]\n"
     ]
    },
    {
     "name": "stdout",
     "output_type": "stream",
     "text": [
      "313/313 [==============================] - 1s 3ms/step\n"
     ]
    },
    {
     "name": "stderr",
     "output_type": "stream",
     "text": [
      "100%|██████████| 10000/10000 [00:21<00:00, 458.14it/s]\n"
     ]
    },
    {
     "name": "stdout",
     "output_type": "stream",
     "text": [
      "{'test_acc': 0.7196000218391418, 'val_acc': None, 'train_acc': 0.7875999808311462, 'unit_size': 38, 'alpha': 1.0, 'model_id': '20230509-170226', 'params': 552758, 'model_mode': 'diao_CNN', 'scale_mode': 1.0, 'ma_mode': 'no', 'adv_std': 7.62, 'adv_pow': 7.6, 'adv_cls': 8.14}\n",
      "391/391 [==============================] - 3s 8ms/step - loss: 0.6183 - accuracy: 0.7884\n",
      "79/79 [==============================] - 1s 7ms/step - loss: 0.7359 - accuracy: 0.7466\n",
      "4/4 [==============================] - 0s 6ms/step\n"
     ]
    },
    {
     "name": "stderr",
     "output_type": "stream",
     "text": [
      "100%|██████████| 100/100 [00:00<00:00, 433.71it/s]"
     ]
    },
    {
     "name": "stdout",
     "output_type": "stream",
     "text": [
      "1/4 [======>.......................] - ETA: 0s"
     ]
    },
    {
     "name": "stderr",
     "output_type": "stream",
     "text": [
      "\n"
     ]
    },
    {
     "name": "stdout",
     "output_type": "stream",
     "text": [
      "4/4 [==============================] - 0s 3ms/step\n"
     ]
    },
    {
     "name": "stderr",
     "output_type": "stream",
     "text": [
      "100%|██████████| 100/100 [00:00<00:00, 443.03it/s]\n"
     ]
    },
    {
     "name": "stdout",
     "output_type": "stream",
     "text": [
      "313/313 [==============================] - 1s 3ms/step\n"
     ]
    },
    {
     "name": "stderr",
     "output_type": "stream",
     "text": [
      "100%|██████████| 10000/10000 [00:21<00:00, 458.85it/s]\n"
     ]
    },
    {
     "name": "stdout",
     "output_type": "stream",
     "text": [
      "{'test_acc': 0.7465999722480774, 'val_acc': None, 'train_acc': 0.7884399890899658, 'unit_size': 38, 'alpha': 1.0, 'model_id': '20230509-170226', 'params': 552758, 'model_mode': 'diao_CNN', 'scale_mode': 1.0, 'ma_mode': 'no', 'adv_std': 4.82, 'adv_pow': 5.56, 'adv_cls': 4.9399999999999995}\n"
     ]
    }
   ],
   "source": [
    "root_path = '/data/models/ma-fl-mia/federated/'\n",
    "model_id = '20230509-170226'\n",
    "epoch_id = 'saved_model_post_70'\n",
    "\n",
    "import json\n",
    "with open(os.path.join(root_path,model_id,\"config.json\")) as json_file:\n",
    "    m_conf =  json.load(json_file)\n",
    "\n",
    "m_path = os.path.join(root_path,model_id,'clients',str(cid),epoch_id)\n",
    "\n",
    "model = models.get_model(unit_size=m_conf['unit_size'], conf=conf)\n",
    "model.load_weights(os.path.join(m_path))\n",
    "model.compile(optimizer=models.get_optimizer(),\n",
    "              loss=models.get_loss(),\n",
    "              metrics=[\"accuracy\"])\n",
    "\n",
    "from src import metrics\n",
    "\n",
    "train_c_ds = tf.data.Dataset.from_tensor_slices((x_train,y_train))\n",
    "r = metrics.evaluate(m_conf, model, train_c_ds, None, test_ds)\n",
    "\n",
    "print(r)\n",
    "\n",
    "m_path = os.path.join(root_path,model_id,\"saved_model\")\n",
    "\n",
    "model_global = models.get_model(unit_size=m_conf['unit_size'], conf=conf)\n",
    "model_global.load_weights(os.path.join(m_path))\n",
    "model_global.compile(optimizer=models.get_optimizer(),\n",
    "              loss=models.get_loss(),\n",
    "              metrics=[\"accuracy\"])\n",
    "\n",
    "r = metrics.evaluate(m_conf, model_global, train_ds, None, test_ds)\n",
    "\n",
    "print(r)"
   ]
  },
  {
   "cell_type": "code",
   "execution_count": null,
   "metadata": {},
   "outputs": [],
   "source": []
  }
 ],
 "metadata": {
  "kernelspec": {
   "display_name": "Python 3",
   "language": "python",
   "name": "python3"
  },
  "language_info": {
   "codemirror_mode": {
    "name": "ipython",
    "version": 3
   },
   "file_extension": ".py",
   "mimetype": "text/x-python",
   "name": "python",
   "nbconvert_exporter": "python",
   "pygments_lexer": "ipython3",
   "version": "3.8.10"
  }
 },
 "nbformat": 4,
 "nbformat_minor": 2
}
