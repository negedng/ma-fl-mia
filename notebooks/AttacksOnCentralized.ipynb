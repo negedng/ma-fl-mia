{
 "cells": [
  {
   "cell_type": "code",
   "execution_count": 1,
   "metadata": {},
   "outputs": [],
   "source": [
    "%matplotlib inline\n",
    "import numpy as np\n",
    "import pandas as pd\n",
    "import tensorflow as tf \n",
    "import tensorflow_datasets as tfds\n",
    "import os\n",
    "\n",
    "\n",
    "import sys\n",
    "sys.path.append('/data/codes/ma-fl-mia/')\n",
    "from src import utils\n",
    "from src import models\n",
    "\n",
    "conf = utils.load_config('/data/codes/ma-fl-mia/env.json', '/data/codes/ma-fl-mia/config.json')"
   ]
  },
  {
   "cell_type": "code",
   "execution_count": 2,
   "metadata": {},
   "outputs": [],
   "source": [
    "train_ds, test_ds = tfds.load('cifar10', split=['train','test'], as_supervised=True)\n"
   ]
  },
  {
   "cell_type": "code",
   "execution_count": 3,
   "metadata": {},
   "outputs": [],
   "source": [
    "x_train, y_train = utils.get_np_from_tfds(train_ds)\n",
    "x_test, y_test = utils.get_np_from_tfds(test_ds)"
   ]
  },
  {
   "cell_type": "code",
   "execution_count": 4,
   "metadata": {},
   "outputs": [
    {
     "name": "stdout",
     "output_type": "stream",
     "text": [
      "{'num_clients': 10, 'paths': {'models': '/data/models/ma-fl-mia/federated/', 'code': '/data/codes/ma-fl-mia/flower_train.py'}, 'seed': 20, 'epochs': 1, 'rounds': 150, 'n_attacker_knowledge': 100, 'n_attack_sample': 5000, 'batch_size': 128, 'learning_rate': 0.001, 'weight_clients': False, 'split_mode': 'homogen', 'dirichlet_alpha': 1.0, 'ma_mode': 'rm-cid', 'unit_size': 64, 'model_mode': 'diao_CNN', 'scale_mode': 0.8, 'val_split': False, 'continue_from': None, 'dp': False, 'dp_clipnorm': 0.5, 'dp_noise': 0.1, 'permutate_cuts': True, 'cut_type': 'secure', 'data_norm': False, 'root_path': '/', 'ray_init_args': {'num_cpus': 6}, 'client_resources': None, 'CUDA_VISIBLE_DEVICES': '0'}\n"
     ]
    }
   ],
   "source": [
    "print(conf)"
   ]
  },
  {
   "cell_type": "code",
   "execution_count": 5,
   "metadata": {},
   "outputs": [],
   "source": [
    "model = models.get_model(32, conf=conf, static_bn=False)"
   ]
  },
  {
   "cell_type": "code",
   "execution_count": 6,
   "metadata": {},
   "outputs": [],
   "source": [
    "model.compile(\n",
    "    optimizer=tf.keras.optimizers.SGD(learning_rate=0.2, momentum=0.9, decay=1e-5),\n",
    "    loss=models.get_loss(),\n",
    "    metrics=['accuracy']\n",
    ")"
   ]
  },
  {
   "cell_type": "code",
   "execution_count": 7,
   "metadata": {},
   "outputs": [
    {
     "name": "stdout",
     "output_type": "stream",
     "text": [
      "Epoch 1/25\n",
      "391/391 [==============================] - 11s 19ms/step - loss: 1.2975 - accuracy: 0.5357 - val_loss: 1.2096 - val_accuracy: 0.5737\n",
      "Epoch 2/25\n",
      "391/391 [==============================] - 6s 17ms/step - loss: 0.8801 - accuracy: 0.6890 - val_loss: 0.8444 - val_accuracy: 0.7052\n",
      "Epoch 3/25\n",
      "391/391 [==============================] - 7s 17ms/step - loss: 0.7112 - accuracy: 0.7499 - val_loss: 0.7926 - val_accuracy: 0.7298\n",
      "Epoch 4/25\n",
      "391/391 [==============================] - 6s 17ms/step - loss: 0.5981 - accuracy: 0.7911 - val_loss: 0.8287 - val_accuracy: 0.7305\n",
      "Epoch 5/25\n",
      "391/391 [==============================] - 6s 16ms/step - loss: 0.5089 - accuracy: 0.8210 - val_loss: 0.6945 - val_accuracy: 0.7680\n",
      "Epoch 6/25\n",
      "391/391 [==============================] - 6s 16ms/step - loss: 0.4340 - accuracy: 0.8477 - val_loss: 0.6930 - val_accuracy: 0.7702\n",
      "Epoch 7/25\n",
      "391/391 [==============================] - 6s 16ms/step - loss: 0.3710 - accuracy: 0.8704 - val_loss: 0.6712 - val_accuracy: 0.7840\n",
      "Epoch 8/25\n",
      "391/391 [==============================] - 6s 17ms/step - loss: 0.3034 - accuracy: 0.8949 - val_loss: 0.6770 - val_accuracy: 0.7829\n",
      "Epoch 9/25\n",
      "391/391 [==============================] - 7s 17ms/step - loss: 0.2539 - accuracy: 0.9108 - val_loss: 0.7243 - val_accuracy: 0.7779\n",
      "Epoch 10/25\n",
      "391/391 [==============================] - 7s 17ms/step - loss: 0.1993 - accuracy: 0.9309 - val_loss: 0.7303 - val_accuracy: 0.7867\n",
      "Epoch 11/25\n",
      "391/391 [==============================] - 6s 16ms/step - loss: 0.1597 - accuracy: 0.9446 - val_loss: 0.7912 - val_accuracy: 0.7773\n",
      "Epoch 12/25\n",
      "391/391 [==============================] - 6s 16ms/step - loss: 0.1228 - accuracy: 0.9577 - val_loss: 0.8352 - val_accuracy: 0.7840\n",
      "Epoch 13/25\n",
      "391/391 [==============================] - 6s 16ms/step - loss: 0.0990 - accuracy: 0.9665 - val_loss: 0.8121 - val_accuracy: 0.7959\n",
      "Epoch 14/25\n",
      "391/391 [==============================] - 6s 16ms/step - loss: 0.0732 - accuracy: 0.9757 - val_loss: 0.9309 - val_accuracy: 0.7852\n",
      "Epoch 15/25\n",
      "391/391 [==============================] - 6s 16ms/step - loss: 0.0538 - accuracy: 0.9829 - val_loss: 0.9926 - val_accuracy: 0.7940\n",
      "Epoch 16/25\n",
      "391/391 [==============================] - 7s 17ms/step - loss: 0.0448 - accuracy: 0.9856 - val_loss: 0.8994 - val_accuracy: 0.7982\n",
      "Epoch 17/25\n",
      "391/391 [==============================] - 6s 17ms/step - loss: 0.0279 - accuracy: 0.9926 - val_loss: 1.0434 - val_accuracy: 0.7966\n",
      "Epoch 18/25\n",
      "391/391 [==============================] - 7s 17ms/step - loss: 0.0216 - accuracy: 0.9942 - val_loss: 1.0936 - val_accuracy: 0.7855\n",
      "Epoch 19/25\n",
      "391/391 [==============================] - 7s 17ms/step - loss: 0.0221 - accuracy: 0.9937 - val_loss: 0.9822 - val_accuracy: 0.7962\n",
      "Epoch 20/25\n",
      "391/391 [==============================] - 7s 17ms/step - loss: 0.0177 - accuracy: 0.9954 - val_loss: 1.0136 - val_accuracy: 0.8005\n",
      "Epoch 21/25\n",
      "391/391 [==============================] - 7s 17ms/step - loss: 0.0080 - accuracy: 0.9987 - val_loss: 0.9939 - val_accuracy: 0.8106\n",
      "Epoch 22/25\n",
      "391/391 [==============================] - 7s 17ms/step - loss: 0.0046 - accuracy: 0.9993 - val_loss: 1.0600 - val_accuracy: 0.8012\n",
      "Epoch 23/25\n",
      "391/391 [==============================] - 7s 17ms/step - loss: 0.0022 - accuracy: 0.9999 - val_loss: 1.0858 - val_accuracy: 0.8001\n",
      "Epoch 24/25\n",
      "391/391 [==============================] - 7s 17ms/step - loss: 0.0012 - accuracy: 1.0000 - val_loss: 1.0876 - val_accuracy: 0.8102\n",
      "Epoch 25/25\n",
      "391/391 [==============================] - 7s 18ms/step - loss: 9.1562e-04 - accuracy: 1.0000 - val_loss: 1.0900 - val_accuracy: 0.8133\n"
     ]
    },
    {
     "name": "stderr",
     "output_type": "stream",
     "text": [
      "WARNING:absl:Found untraced functions such as _jit_compiled_convolution_op, _jit_compiled_convolution_op, _jit_compiled_convolution_op, _jit_compiled_convolution_op while saving (showing 4 of 4). These functions will not be directly callable after loading.\n"
     ]
    },
    {
     "name": "stdout",
     "output_type": "stream",
     "text": [
      "INFO:tensorflow:Assets written to: ram://741129e4-f334-4818-9e10-56bece5515df/assets\n"
     ]
    },
    {
     "name": "stderr",
     "output_type": "stream",
     "text": [
      "INFO:tensorflow:Assets written to: ram://741129e4-f334-4818-9e10-56bece5515df/assets\n"
     ]
    },
    {
     "name": "stdout",
     "output_type": "stream",
     "text": [
      "391/391 [==============================] - 7s 17ms/step - loss: 7.9437e-04 - accuracy: 1.0000 - val_loss: 1.0323 - val_accuracy: 0.8148\n"
     ]
    }
   ],
   "source": [
    "history = model.fit(\n",
    "    x_train, y_train,\n",
    "    batch_size=conf['batch_size'],\n",
    "    epochs=25,\n",
    "    validation_data=[x_test, y_test],\n",
    "    verbose=1,\n",
    ")\n",
    "import copy\n",
    "m_prev = copy.deepcopy(model)\n",
    "history_1 = model.fit(\n",
    "    x_train, y_train,\n",
    "    batch_size=conf['batch_size'],\n",
    "    epochs=1,\n",
    "    validation_data=[x_test, y_test],\n",
    "    verbose=1,\n",
    ")"
   ]
  },
  {
   "cell_type": "code",
   "execution_count": 8,
   "metadata": {},
   "outputs": [
    {
     "data": {
      "text/plain": [
       "[<matplotlib.lines.Line2D at 0x7f4c44681430>]"
      ]
     },
     "execution_count": 8,
     "metadata": {},
     "output_type": "execute_result"
    },
    {
     "data": {
      "image/png": "[encoded data removed]",
      "text/plain": [
       "<Figure size 432x288 with 1 Axes>"
      ]
     },
     "metadata": {
      "needs_background": "light"
     },
     "output_type": "display_data"
    }
   ],
   "source": [
    "import matplotlib.pyplot as plt\n",
    "%matplotlib inline\n",
    "\n",
    "plt.plot(history.history['val_accuracy']+history_1.history['val_accuracy'])\n",
    "plt.plot(history.history['accuracy']+history_1.history['accuracy'])"
   ]
  },
  {
   "cell_type": "code",
   "execution_count": 9,
   "metadata": {},
   "outputs": [
    {
     "name": "stdout",
     "output_type": "stream",
     "text": [
      "391/391 [==============================] - 3s 7ms/step - loss: 9.1007e-04 - accuracy: 1.0000\n",
      "79/79 [==============================] - 1s 6ms/step - loss: 1.0323 - accuracy: 0.8148\n"
     ]
    },
    {
     "name": "stderr",
     "output_type": "stream",
     "text": [
      "100%|██████████| 100/100 [00:00<00:00, 422.16it/s]\n",
      "100%|██████████| 100/100 [00:00<00:00, 384.95it/s]\n",
      "100%|██████████| 10000/10000 [00:22<00:00, 447.47it/s]\n"
     ]
    },
    {
     "data": {
      "text/plain": [
       "{'test_acc': 0.8148000240325928,\n",
       " 'val_acc': None,\n",
       " 'train_acc': 1.0,\n",
       " 'unit_size': 64,\n",
       " 'alpha': 1.0,\n",
       " 'model_id': None,\n",
       " 'params': 392906,\n",
       " 'model_mode': 'diao_CNN',\n",
       " 'scale_mode': 0.8,\n",
       " 'ma_mode': 'rm-cid',\n",
       " 'adv_std': 29.68,\n",
       " 'adv_pow': 32.98,\n",
       " 'adv_cls': 24.22}"
      ]
     },
     "execution_count": 9,
     "metadata": {},
     "output_type": "execute_result"
    }
   ],
   "source": [
    "from src import metrics\n",
    "conf['model_id']=None\n",
    "r = metrics.evaluate(conf, model, train_ds, None, test_ds)\n",
    "r"
   ]
  },
  {
   "cell_type": "code",
   "execution_count": 10,
   "metadata": {},
   "outputs": [],
   "source": [
    "last_weights = model.trainable_variables\n",
    "prev_weights = m_prev.trainable_variables\n",
    "grad_update = [l-p for l,p in zip(last_weights,prev_weights)]"
   ]
  },
  {
   "cell_type": "code",
   "execution_count": 11,
   "metadata": {},
   "outputs": [],
   "source": [
    "from tqdm import tqdm_notebook as tqdm"
   ]
  },
  {
   "cell_type": "code",
   "execution_count": 12,
   "metadata": {},
   "outputs": [],
   "source": [
    "def get_model_grad(model, loss_fn, x, y):\n",
    "    '''Compute the gradients for this batch'''\n",
    "    with tf.GradientTape(watch_accessed_variables=True) as tape:\n",
    "        y_pred = model(x, training=False)\n",
    "        loss = loss_fn(y, y_pred)\n",
    "    gradients = tape.gradient(loss, model.trainable_variables)\n",
    "    return gradients\n",
    "\n",
    "\n",
    "def csim(a,b):\n",
    "    return tf.keras.losses.CosineSimilarity(axis=0)(a,b).numpy()"
   ]
  },
  {
   "cell_type": "code",
   "execution_count": 13,
   "metadata": {},
   "outputs": [
    {
     "data": {
      "application/vnd.jupyter.widget-view+json": {
       "model_id": "faea3901cad842eea36259937ef290ab",
       "version_major": 2,
       "version_minor": 0
      },
      "text/plain": [
       "HBox(children=(IntProgress(value=0, max=500), HTML(value='')))"
      ]
     },
     "metadata": {},
     "output_type": "display_data"
    },
    {
     "name": "stdout",
     "output_type": "stream",
     "text": [
      "\n"
     ]
    },
    {
     "data": {
      "text/plain": [
       "(500, 18)"
      ]
     },
     "execution_count": 13,
     "metadata": {},
     "output_type": "execute_result"
    }
   ],
   "source": [
    "all_cs_train = []\n",
    "l = 500\n",
    "for x,y in tqdm(zip(x_train[:l], y_train[:l]), total=l):\n",
    "    cs_x = []\n",
    "    grad_xy = get_model_grad(m_prev, models.get_loss(), np.expand_dims(x,0), np.expand_dims(y,0))\n",
    "    cs = []\n",
    "    for a,b in zip(grad_update, grad_xy):\n",
    "        try:\n",
    "            c = csim(a,b)\n",
    "            cs.append(c)\n",
    "        except ValueError as e:\n",
    "            pass\n",
    "    all_cs_train.append(np.array(cs))\n",
    "all_cs_train = np.array(all_cs_train)\n",
    "np.shape(all_cs_train)"
   ]
  },
  {
   "cell_type": "code",
   "execution_count": 14,
   "metadata": {},
   "outputs": [
    {
     "data": {
      "application/vnd.jupyter.widget-view+json": {
       "model_id": "65629c1b32ed4e3081ba86a48fcba124",
       "version_major": 2,
       "version_minor": 0
      },
      "text/plain": [
       "HBox(children=(IntProgress(value=0, max=500), HTML(value='')))"
      ]
     },
     "metadata": {},
     "output_type": "display_data"
    },
    {
     "name": "stdout",
     "output_type": "stream",
     "text": [
      "\n"
     ]
    },
    {
     "data": {
      "text/plain": [
       "(500, 18)"
      ]
     },
     "execution_count": 14,
     "metadata": {},
     "output_type": "execute_result"
    }
   ],
   "source": [
    "all_cs_test = []\n",
    "l = 500\n",
    "for x,y in tqdm(zip(x_test[:l], y_test[:l]), total=l):\n",
    "    cs_x = []\n",
    "    grad_xy = get_model_grad(m_prev, models.get_loss(), np.expand_dims(x,0), np.expand_dims(y,0))\n",
    "    cs = []\n",
    "    for a,b in zip(grad_update, grad_xy):\n",
    "        try:\n",
    "            c = csim(a,b)\n",
    "            cs.append(c)\n",
    "        except ValueError as e:\n",
    "            pass\n",
    "    all_cs_test.append(np.array(cs))\n",
    "all_cs_test = np.array(all_cs_test)\n",
    "np.shape(all_cs_test)"
   ]
  },
  {
   "cell_type": "code",
   "execution_count": 15,
   "metadata": {},
   "outputs": [
    {
     "name": "stdout",
     "output_type": "stream",
     "text": [
      "[ 1.4927275e-02 -8.9363488e-07  1.4572321e-02  2.4482092e-02\n",
      "  5.1907339e-04  3.3127173e-05  3.0358687e-02  2.4878310e-02\n",
      "  7.5126195e-04  3.0283518e-05  4.9859018e-04 -5.4917834e-04\n",
      " -6.9406589e-05 -3.9899442e-06  5.6822017e-02  4.0814418e-02\n",
      "  2.1079505e-02  3.3659361e-02]\n",
      "[ 4.8781522e-03 -4.1560475e-07  2.0325877e-02  6.5948470e-03\n",
      "  5.6576054e-04  3.9885224e-05  6.7897066e-03  6.5355333e-03\n",
      "  6.2096812e-04  3.2234020e-05  3.9781402e-03  7.8390108e-04\n",
      "  2.5277544e-04  4.2872216e-06  2.7306309e-02  1.4968904e-02\n",
      "  1.0873655e-02  1.9586522e-03]\n",
      "17\n",
      "1\n"
     ]
    },
    {
     "data": {
      "image/png": "[encoded data removed]",
      "text/plain": [
       "<Figure size 432x288 with 1 Axes>"
      ]
     },
     "metadata": {
      "needs_background": "light"
     },
     "output_type": "display_data"
    }
   ],
   "source": [
    "import matplotlib.pyplot as plt\n",
    "\n",
    "print(np.mean(all_cs_train,0))\n",
    "print(np.mean(all_cs_test,0))\n",
    "layer = np.argmax(np.abs(np.mean(all_cs_train,0)-np.mean(all_cs_test,0)))\n",
    "print(layer)\n",
    "layer = np.argmin(np.std(all_cs_test,0))\n",
    "print(layer)\n",
    "layer = 14\n",
    "plt.hist(all_cs_train[:,layer], 100)\n",
    "plt.hist(all_cs_test[:,layer], 100)\n",
    "plt.show()"
   ]
  },
  {
   "cell_type": "code",
   "execution_count": 19,
   "metadata": {},
   "outputs": [
    {
     "name": "stdout",
     "output_type": "stream",
     "text": [
      "48 452 51 449\n",
      "49.7\n"
     ]
    }
   ],
   "source": [
    "layer = 17\n",
    "fpr = 0.1\n",
    "# threshold = np.mean([np.mean(all_cs_train,0),np.mean(all_cs_test,0)],0)\n",
    "# threshold = threshold[layer]\n",
    "threshold = sorted(all_cs_test[:,layer])[int(fpr*len(all_cs_test))]\n",
    "\n",
    "tp = len(all_cs_train[all_cs_train[:,layer]<=threshold])\n",
    "fn = len(all_cs_train[all_cs_train[:,layer]>threshold])\n",
    "fp = len(all_cs_test[all_cs_test[:,layer]<=threshold])\n",
    "tn = len(all_cs_test[all_cs_test[:,layer]>threshold])\n",
    "print(tp, fn, fp, tn)\n",
    "print((tp+tn)/(tp+tn+fp+fn)*100)"
   ]
  },
  {
   "cell_type": "code",
   "execution_count": 20,
   "metadata": {},
   "outputs": [
    {
     "data": {
      "text/plain": [
       "-0.0038392306"
      ]
     },
     "execution_count": 20,
     "metadata": {},
     "output_type": "execute_result"
    }
   ],
   "source": [
    "x = x_train[0]\n",
    "y = y_train[0] \n",
    "a = get_model_grad(m_prev, models.get_loss(), np.expand_dims(x,0), np.expand_dims(y,0))\n",
    "a_ = get_model_grad(m_prev, models.get_loss(), np.expand_dims(x,0), np.expand_dims((y+1)%10,0))\n",
    "csim(a[14],a_[14])"
   ]
  },
  {
   "cell_type": "code",
   "execution_count": 21,
   "metadata": {},
   "outputs": [
    {
     "data": {
      "text/plain": [
       "0.49866602"
      ]
     },
     "execution_count": 21,
     "metadata": {},
     "output_type": "execute_result"
    }
   ],
   "source": [
    "x = x_test[0]\n",
    "y = y_test[0] \n",
    "a = get_model_grad(m_prev, models.get_loss(), np.expand_dims(x,0), np.expand_dims(y,0))\n",
    "a_ = get_model_grad(m_prev, models.get_loss(), np.expand_dims(x,0), np.expand_dims((y+1)%10,0))\n",
    "csim(a[14],a_[14])"
   ]
  },
  {
   "cell_type": "code",
   "execution_count": 26,
   "metadata": {},
   "outputs": [
    {
     "data": {
      "application/vnd.jupyter.widget-view+json": {
       "model_id": "6e0e453e5a2146aa9b53c52236eab2c4",
       "version_major": 2,
       "version_minor": 0
      },
      "text/plain": [
       "HBox(children=(IntProgress(value=0, max=500), HTML(value='')))"
      ]
     },
     "metadata": {},
     "output_type": "display_data"
    },
    {
     "name": "stdout",
     "output_type": "stream",
     "text": [
      "\n"
     ]
    },
    {
     "data": {
      "text/plain": [
       "(500, 18)"
      ]
     },
     "execution_count": 26,
     "metadata": {},
     "output_type": "execute_result"
    }
   ],
   "source": [
    "all_cs_train2 = []\n",
    "l = 500\n",
    "for x,y in tqdm(zip(x_train[:l], y_train[:l]), total=l):\n",
    "    cs_x = []\n",
    "    grad_right = get_model_grad(m_prev, models.get_loss(), np.expand_dims(x,0), np.expand_dims(y,0))\n",
    "    grad_wrong = get_model_grad(m_prev, models.get_loss(), np.expand_dims(x,0), np.expand_dims((y+1)%10,0))\n",
    "    cs = []\n",
    "    for a,b in zip(grad_right, grad_wrong):\n",
    "        try:\n",
    "            c = csim(a,b)\n",
    "            cs.append(c)\n",
    "        except ValueError as e:\n",
    "            pass\n",
    "    all_cs_train2.append(np.array(cs))\n",
    "all_cs_train2 = np.array(all_cs_train2)\n",
    "np.shape(all_cs_train2)"
   ]
  },
  {
   "cell_type": "code",
   "execution_count": 27,
   "metadata": {},
   "outputs": [
    {
     "data": {
      "application/vnd.jupyter.widget-view+json": {
       "model_id": "82061f816f6446e38b9f7b336493f98f",
       "version_major": 2,
       "version_minor": 0
      },
      "text/plain": [
       "HBox(children=(IntProgress(value=0, max=500), HTML(value='')))"
      ]
     },
     "metadata": {},
     "output_type": "display_data"
    },
    {
     "name": "stdout",
     "output_type": "stream",
     "text": [
      "\n"
     ]
    },
    {
     "data": {
      "text/plain": [
       "(500, 18)"
      ]
     },
     "execution_count": 27,
     "metadata": {},
     "output_type": "execute_result"
    }
   ],
   "source": [
    "all_cs_test2 = []\n",
    "l = 500\n",
    "for x,y in tqdm(zip(x_test[:l], y_test[:l]), total=l):\n",
    "    cs_x = []\n",
    "    grad_right = get_model_grad(m_prev, models.get_loss(), np.expand_dims(x,0), np.expand_dims(y,0))\n",
    "    grad_wrong = get_model_grad(m_prev, models.get_loss(), np.expand_dims(x,0), np.expand_dims((y+1)%10,0))\n",
    "    cs = []\n",
    "    for a,b in zip(grad_right, grad_wrong):\n",
    "        try:\n",
    "            c = csim(a,b)\n",
    "            cs.append(c)\n",
    "        except ValueError as e:\n",
    "            pass\n",
    "    all_cs_test2.append(np.array(cs))\n",
    "all_cs_test2 = np.array(all_cs_test2)\n",
    "np.shape(all_cs_test2)"
   ]
  },
  {
   "cell_type": "code",
   "execution_count": 28,
   "metadata": {},
   "outputs": [
    {
     "name": "stdout",
     "output_type": "stream",
     "text": [
      "[ 0.32741857  0.3157648   0.44973153  0.43494165  0.30678457  0.4200656\n",
      "  0.4491223   0.4458896   0.29295805  0.42654616  0.44485047  0.44179198\n",
      "  0.2170183   0.43553957  0.44882464  0.43866223 -0.09363756  0.42311913]\n",
      "[ 0.20525831  0.19828528  0.27701452  0.28098774  0.19143096  0.26504382\n",
      "  0.28431225  0.28333712  0.18221638  0.26970208  0.27832565  0.27858385\n",
      "  0.1347889   0.26812905  0.2768153   0.27051273 -0.11756168  0.25933746]\n",
      "2\n",
      "16\n"
     ]
    },
    {
     "data": {
      "image/png": "[encoded data removed]",
      "text/plain": [
       "<Figure size 432x288 with 1 Axes>"
      ]
     },
     "metadata": {
      "needs_background": "light"
     },
     "output_type": "display_data"
    }
   ],
   "source": [
    "import matplotlib.pyplot as plt\n",
    "\n",
    "print(np.mean(all_cs_train2,0))\n",
    "print(np.mean(all_cs_test2,0))\n",
    "layer = np.argmax(np.abs(np.mean(all_cs_train2,0)-np.mean(all_cs_test2,0)))\n",
    "print(layer)\n",
    "layer = np.argmin(np.std(all_cs_test2,0))\n",
    "print(layer)\n",
    "layer = 14\n",
    "plt.hist(all_cs_train2[:,layer], 100)\n",
    "plt.hist(all_cs_test2[:,layer], 100)\n",
    "plt.show()"
   ]
  },
  {
   "cell_type": "code",
   "execution_count": 29,
   "metadata": {},
   "outputs": [
    {
     "name": "stdout",
     "output_type": "stream",
     "text": [
      "371 129 267 233\n",
      "60.4\n"
     ]
    }
   ],
   "source": [
    "layer = 14\n",
    "fpr = 0.1\n",
    "train_mean = np.mean(all_cs_train2,0)\n",
    "test_mean = np.mean(all_cs_test2,0)\n",
    "threshold = np.mean([train_mean, test_mean],0)\n",
    "threshold = threshold[layer]\n",
    "# threshold = sorted(all_cs_test[:,layer])[int(fpr*len(all_cs_test))]\n",
    "\n",
    "if train_mean[layer]<test_mean[layer]:\n",
    "    tp = len(all_cs_train2[all_cs_train2[:,layer]<=threshold])\n",
    "    fn = len(all_cs_train2[all_cs_train2[:,layer]>threshold])\n",
    "    fp = len(all_cs_test2[all_cs_test2[:,layer]<=threshold])\n",
    "    tn = len(all_cs_test2[all_cs_test2[:,layer]>threshold])\n",
    "else:\n",
    "    tp = len(all_cs_train2[all_cs_train2[:,layer]>=threshold])\n",
    "    fn = len(all_cs_train2[all_cs_train2[:,layer]<threshold])\n",
    "    fp = len(all_cs_test2[all_cs_test2[:,layer]>=threshold])\n",
    "    tn = len(all_cs_test2[all_cs_test2[:,layer]<threshold])    \n",
    "print(tp, fn, fp, tn)\n",
    "print((tp+tn)/(tp+tn+fp+fn)*100)"
   ]
  },
  {
   "cell_type": "markdown",
   "metadata": {},
   "source": [
    "## Let's make it real"
   ]
  },
  {
   "cell_type": "code",
   "execution_count": 22,
   "metadata": {},
   "outputs": [],
   "source": [
    "train_attacker = (x_train[-200:-100], y_train[-200:-100])\n",
    "test_attacker = (x_test[-200:-100], y_test[-200:-100])\n",
    "attacker_knowledge = {'in_train_data': train_attacker, 'not_train_data':test_attacker}\n",
    "\n",
    "def attack_obs(model, attacker_knowledge, loss_function):\n",
    "    train_attacker = attacker_knowledge['in_train_data']\n",
    "    test_attacker = attacker_knowledge['not_train_data']\n",
    "    x_train_attacker, y_train_attacker = train_attacker\n",
    "    x_test_attacker, y_test_attacker = test_attacker\n",
    "    lbs = len(np.unique(y_train_attacker))\n",
    "    \n",
    "    cs_train = []\n",
    "    for x,y in tqdm(zip(x_train_attacker,y_train_attacker), total=len(y_train_attacker)):\n",
    "        grad_right = get_model_grad(model, models.get_loss(), np.expand_dims(x,0), np.expand_dims(y,0))\n",
    "        grad_wrong = get_model_grad(model, models.get_loss(), np.expand_dims(x,0), np.expand_dims((y+1)%lbs,0))\n",
    "        cs = []\n",
    "        for a,b in zip(grad_right, grad_wrong):\n",
    "            try:\n",
    "                c = csim(a,b)\n",
    "                cs.append(c)\n",
    "            except ValueError as e:\n",
    "                pass\n",
    "        cs_train.append(np.array(cs))\n",
    "    cs_train = np.array(cs_train)\n",
    "\n",
    "    cs_test = []\n",
    "    for x,y in tqdm(zip(x_test_attacker,y_train_attacker), total=len(y_test_attacker)):\n",
    "        grad_right = get_model_grad(model, models.get_loss(), np.expand_dims(x,0), np.expand_dims(y,0))\n",
    "        grad_wrong = get_model_grad(model, models.get_loss(), np.expand_dims(x,0), np.expand_dims((y+1)%lbs,0))\n",
    "        cs = []\n",
    "        for a,b in zip(grad_right, grad_wrong):\n",
    "            try:\n",
    "                c = csim(a,b)\n",
    "                cs.append(c)\n",
    "            except ValueError as e:\n",
    "                pass\n",
    "        cs_test.append(np.array(cs))\n",
    "    cs_test = np.array(cs_test)\n",
    "    \n",
    "    train_mean = np.mean(cs_train,0)\n",
    "    test_mean = np.mean(cs_test,0)\n",
    "    layer = np.argmax(np.abs(train_mean-test_mean))\n",
    "    threshold = np.mean([train_mean, test_mean],0)\n",
    "    sign = train_mean>test_mean\n",
    "    \n",
    "    return layer, threshold[layer], sign[layer]"
   ]
  },
  {
   "cell_type": "code",
   "execution_count": 32,
   "metadata": {},
   "outputs": [
    {
     "data": {
      "application/vnd.jupyter.widget-view+json": {
       "model_id": "7b36c608972e442e83a30a219a7a3688",
       "version_major": 2,
       "version_minor": 0
      },
      "text/plain": [
       "HBox(children=(IntProgress(value=0), HTML(value='')))"
      ]
     },
     "metadata": {},
     "output_type": "display_data"
    },
    {
     "name": "stdout",
     "output_type": "stream",
     "text": [
      "\n"
     ]
    },
    {
     "data": {
      "application/vnd.jupyter.widget-view+json": {
       "model_id": "6bff67e851ef4520b46e33254943961d",
       "version_major": 2,
       "version_minor": 0
      },
      "text/plain": [
       "HBox(children=(IntProgress(value=0), HTML(value='')))"
      ]
     },
     "metadata": {},
     "output_type": "display_data"
    },
    {
     "name": "stdout",
     "output_type": "stream",
     "text": [
      "\n"
     ]
    }
   ],
   "source": [
    "l,t,s = attack_obs(model, attacker_knowledge, models.get_loss())"
   ]
  },
  {
   "cell_type": "code",
   "execution_count": 33,
   "metadata": {},
   "outputs": [
    {
     "name": "stdout",
     "output_type": "stream",
     "text": [
      "6 0.043603733 True\n"
     ]
    }
   ],
   "source": [
    "print(l,t,s)"
   ]
  },
  {
   "cell_type": "code",
   "execution_count": 34,
   "metadata": {},
   "outputs": [
    {
     "name": "stdout",
     "output_type": "stream",
     "text": [
      "383 117 299 201\n",
      "58.4\n"
     ]
    }
   ],
   "source": [
    "layer = l\n",
    "threshold = t\n",
    "\n",
    "if not(s):\n",
    "    tp = len(all_cs_train2[all_cs_train2[:,layer]<=threshold])\n",
    "    fn = len(all_cs_train2[all_cs_train2[:,layer]>threshold])\n",
    "    fp = len(all_cs_test2[all_cs_test2[:,layer]<=threshold])\n",
    "    tn = len(all_cs_test2[all_cs_test2[:,layer]>threshold])\n",
    "else:\n",
    "    tp = len(all_cs_train2[all_cs_train2[:,layer]>=threshold])\n",
    "    fn = len(all_cs_train2[all_cs_train2[:,layer]<threshold])\n",
    "    fp = len(all_cs_test2[all_cs_test2[:,layer]>=threshold])\n",
    "    tn = len(all_cs_test2[all_cs_test2[:,layer]<threshold])    \n",
    "print(tp, fn, fp, tn)\n",
    "print((tp+tn)/(tp+tn+fp+fn)*100)"
   ]
  },
  {
   "cell_type": "markdown",
   "metadata": {},
   "source": [
    "## Merlin"
   ]
  },
  {
   "cell_type": "code",
   "execution_count": 107,
   "metadata": {},
   "outputs": [],
   "source": [
    "def noisy_image(image, noise_std):\n",
    "    if np.issubdtype(image.dtype, np.integer):\n",
    "        scale = 255\n",
    "    else:\n",
    "        scale = 1.0\n",
    "     # Generate Gaussian noise with mean 0 and standard deviation 25\n",
    "    noise = np.random.normal(loc=0, scale=scale*noise_std, size=(32, 32, 3))\n",
    "\n",
    "    # Add noise to image\n",
    "    noisy_image = np.clip(image + noise, 0, scale).astype(image.dtype)    \n",
    "    return noisy_image\n",
    "\n",
    "\n",
    "def merlin_attack(model, x,y, repeat=50, noise_std=0.09, threshold=0.8):\n",
    "    count = 0\n",
    "    l_x = model.evaluate(np.expand_dims(x,0), np.expand_dims(y,0), verbose=0)[0]\n",
    "    \n",
    "    x_noised = np.array([noisy_image(x, noise_std) for i in range(repeat)])\n",
    "    y_noised = np.array([y for i in range(repeat)])\n",
    "    l_noised = utils.predict_losses(model, x_noised, y_noised, models.get_loss(), verbose=0)\n",
    "    l_noised = np.array(l_noised)\n",
    "    count = len(l_noised[l_noised>l_x])\n",
    "    return (count / repeat)>=threshold"
   ]
  },
  {
   "cell_type": "code",
   "execution_count": 113,
   "metadata": {},
   "outputs": [
    {
     "data": {
      "application/vnd.jupyter.widget-view+json": {
       "model_id": "8df2bc8e43024584b24f70a1b76ed565",
       "version_major": 2,
       "version_minor": 0
      },
      "text/plain": [
       "HBox(children=(IntProgress(value=0, max=200), HTML(value='')))"
      ]
     },
     "metadata": {},
     "output_type": "display_data"
    },
    {
     "name": "stdout",
     "output_type": "stream",
     "text": [
      "\n"
     ]
    }
   ],
   "source": [
    "s = []\n",
    "for i in tqdm(range(0,200)):\n",
    "    s.append(merlin_attack(model, x_train[i], y_train[i]))\n",
    "    "
   ]
  },
  {
   "cell_type": "code",
   "execution_count": 114,
   "metadata": {},
   "outputs": [
    {
     "name": "stdout",
     "output_type": "stream",
     "text": [
      "167 33\n"
     ]
    }
   ],
   "source": [
    "tp = len([1 for i in s if i])\n",
    "fn = len([1 for i in s if not(i)])\n",
    "print(tp, fn)"
   ]
  },
  {
   "cell_type": "code",
   "execution_count": 115,
   "metadata": {},
   "outputs": [
    {
     "data": {
      "application/vnd.jupyter.widget-view+json": {
       "model_id": "79407f9ba94244aea9d7b1f60b3b44b4",
       "version_major": 2,
       "version_minor": 0
      },
      "text/plain": [
       "HBox(children=(IntProgress(value=0, max=200), HTML(value='')))"
      ]
     },
     "metadata": {},
     "output_type": "display_data"
    },
    {
     "name": "stdout",
     "output_type": "stream",
     "text": [
      "\n"
     ]
    }
   ],
   "source": [
    "s = []\n",
    "for i in tqdm(range(0,200)):\n",
    "    s.append(merlin_attack(model, x_test[i], y_test[i]))"
   ]
  },
  {
   "cell_type": "code",
   "execution_count": 116,
   "metadata": {},
   "outputs": [
    {
     "name": "stdout",
     "output_type": "stream",
     "text": [
      "145 55\n"
     ]
    }
   ],
   "source": [
    "fp = len([1 for i in s if i])\n",
    "tn = len([1 for i in s if not(i)])\n",
    "print(fp, tn)"
   ]
  },
  {
   "cell_type": "code",
   "execution_count": 117,
   "metadata": {},
   "outputs": [
    {
     "data": {
      "text/plain": [
       "0.555"
      ]
     },
     "execution_count": 117,
     "metadata": {},
     "output_type": "execute_result"
    }
   ],
   "source": [
    "(tp+tn)/(tp+tn+fp+fn)"
   ]
  },
  {
   "cell_type": "code",
   "execution_count": 81,
   "metadata": {},
   "outputs": [
    {
     "data": {
      "text/plain": [
       "<matplotlib.image.AxesImage at 0x7f4bf85bec40>"
      ]
     },
     "execution_count": 81,
     "metadata": {},
     "output_type": "execute_result"
    },
    {
     "data": {
      "image/png": "[encoded data removed]",
      "text/plain": [
       "<Figure size 432x288 with 1 Axes>"
      ]
     },
     "metadata": {
      "needs_background": "light"
     },
     "output_type": "display_data"
    }
   ],
   "source": [
    "plt.imshow(x_train[0])"
   ]
  },
  {
   "cell_type": "code",
   "execution_count": 118,
   "metadata": {},
   "outputs": [
    {
     "data": {
      "text/plain": [
       "<matplotlib.image.AxesImage at 0x7f4b1ddb6640>"
      ]
     },
     "execution_count": 118,
     "metadata": {},
     "output_type": "execute_result"
    },
    {
     "data": {
      "image/png": "[encoded data removed]",
      "text/plain": [
       "<Figure size 432x288 with 1 Axes>"
      ]
     },
     "metadata": {
      "needs_background": "light"
     },
     "output_type": "display_data"
    }
   ],
   "source": [
    "plt.imshow(noisy_image(x_train[0], 0.09))"
   ]
  },
  {
   "cell_type": "markdown",
   "metadata": {},
   "source": [
    "## Shokri"
   ]
  },
  {
   "cell_type": "code",
   "execution_count": 119,
   "metadata": {},
   "outputs": [],
   "source": [
    "def get_attack_model():\n",
    "    model = tf.keras.Sequential([\n",
    "        tf.keras.layers.Dense(64, activation='relu'),\n",
    "        tf.keras.layers.Dense(64, activation='relu'),\n",
    "        tf.keras.layers.Dense(1)\n",
    "    ])\n",
    "    return model\n"
   ]
  },
  {
   "cell_type": "code",
   "execution_count": 148,
   "metadata": {},
   "outputs": [],
   "source": [
    "shadow_model_count = 5\n",
    "x_sm = np.concatenate((train_attacker[0], test_attacker[0]))\n",
    "\n",
    "x_am = []\n",
    "y_am = []\n",
    "\n",
    "for i in range(shadow_model_count):\n",
    "    sm = models.get_model(32, conf=conf, static_bn=False)\n",
    "    sm.compile(\n",
    "        optimizer=tf.keras.optimizers.SGD(learning_rate=0.2, momentum=0.9, decay=1e-5),\n",
    "        loss=models.get_loss(),\n",
    "        metrics=['accuracy']\n",
    "    )\n",
    "    hsm = sm.fit(\n",
    "        train_attacker[0], train_attacker[1],\n",
    "        epochs=25,\n",
    "        shuffle=True,\n",
    "        batch_size=conf['batch_size'],\n",
    "        verbose=0\n",
    "    )\n",
    "    \n",
    "    sm_losses = sm.predict(x_sm, verbose=0)\n",
    "    x_asm = sm_losses\n",
    "    y_asm = np.array(([1] * len(train_attacker[0])) + ([0] * len(test_attacker[0])))\n",
    "    if i==0:\n",
    "        x_am = x_asm\n",
    "        y_am = y_asm\n",
    "    else:\n",
    "        x_am = np.concatenate((x_am, x_asm))\n",
    "        y_am = np.concatenate((y_am, y_asm))"
   ]
  },
  {
   "cell_type": "code",
   "execution_count": 122,
   "metadata": {},
   "outputs": [
    {
     "name": "stdout",
     "output_type": "stream",
     "text": [
      "4/4 [==============================] - 0s 4ms/step\n",
      "4/4 [==============================] - 0s 4ms/step\n"
     ]
    }
   ],
   "source": [
    "train_preds = model.predict(train_attacker[0])\n",
    "test_preds = model.predict(test_attacker[0])\n",
    "\n",
    "x_am2 = np.concatenate((train_preds,test_preds))\n",
    "y_am2 = np.array(([1] * len(train_attacker[0])) + ([0] * len(test_attacker[0])))"
   ]
  },
  {
   "cell_type": "code",
   "execution_count": 149,
   "metadata": {},
   "outputs": [
    {
     "data": {
      "text/plain": [
       "array([1, 1, 1, 1, 1, 1, 1, 1, 1, 1, 1, 1, 1, 1, 1, 1, 1, 1, 1, 1, 1, 1,\n",
       "       1, 1, 1, 1, 1, 1, 1, 1, 1, 1, 1, 1, 1, 1, 1, 1, 1, 1, 1, 1, 1, 1,\n",
       "       1, 1, 1, 1, 1, 1, 1, 1, 1, 1, 1, 1, 1, 1, 1, 1, 1, 1, 1, 1, 1, 1,\n",
       "       1, 1, 1, 1, 1, 1, 1, 1, 1, 1, 1, 1, 1, 1, 1, 1, 1, 1, 1, 1, 1, 1,\n",
       "       1, 1, 1, 1, 1, 1, 1, 1, 1, 1, 1, 1, 0, 0, 0, 0, 0, 0, 0, 0, 0, 0,\n",
       "       0, 0, 0, 0, 0, 0, 0, 0, 0, 0, 0, 0, 0, 0, 0, 0, 0, 0, 0, 0, 0, 0,\n",
       "       0, 0, 0, 0, 0, 0, 0, 0, 0, 0, 0, 0, 0, 0, 0, 0, 0, 0, 0, 0, 0, 0,\n",
       "       0, 0, 0, 0, 0, 0, 0, 0, 0, 0, 0, 0, 0, 0, 0, 0, 0, 0, 0, 0, 0, 0,\n",
       "       0, 0, 0, 0, 0, 0, 0, 0, 0, 0, 0, 0, 0, 0, 0, 0, 0, 0, 0, 0, 0, 0,\n",
       "       0, 0, 1, 1, 1, 1, 1, 1, 1, 1, 1, 1, 1, 1, 1, 1, 1, 1, 1, 1, 1, 1,\n",
       "       1, 1, 1, 1, 1, 1, 1, 1, 1, 1, 1, 1, 1, 1, 1, 1, 1, 1, 1, 1, 1, 1,\n",
       "       1, 1, 1, 1, 1, 1, 1, 1, 1, 1, 1, 1, 1, 1, 1, 1, 1, 1, 1, 1, 1, 1,\n",
       "       1, 1, 1, 1, 1, 1, 1, 1, 1, 1, 1, 1, 1, 1, 1, 1, 1, 1, 1, 1, 1, 1,\n",
       "       1, 1, 1, 1, 1, 1, 1, 1, 1, 1, 1, 1, 1, 1, 0, 0, 0, 0, 0, 0, 0, 0,\n",
       "       0, 0, 0, 0, 0, 0, 0, 0, 0, 0, 0, 0, 0, 0, 0, 0, 0, 0, 0, 0, 0, 0,\n",
       "       0, 0, 0, 0, 0, 0, 0, 0, 0, 0, 0, 0, 0, 0, 0, 0, 0, 0, 0, 0, 0, 0,\n",
       "       0, 0, 0, 0, 0, 0, 0, 0, 0, 0, 0, 0, 0, 0, 0, 0, 0, 0, 0, 0, 0, 0,\n",
       "       0, 0, 0, 0, 0, 0, 0, 0, 0, 0, 0, 0, 0, 0, 0, 0, 0, 0, 0, 0, 0, 0,\n",
       "       0, 0, 0, 0, 1, 1, 1, 1, 1, 1, 1, 1, 1, 1, 1, 1, 1, 1, 1, 1, 1, 1,\n",
       "       1, 1, 1, 1, 1, 1, 1, 1, 1, 1, 1, 1, 1, 1, 1, 1, 1, 1, 1, 1, 1, 1,\n",
       "       1, 1, 1, 1, 1, 1, 1, 1, 1, 1, 1, 1, 1, 1, 1, 1, 1, 1, 1, 1, 1, 1,\n",
       "       1, 1, 1, 1, 1, 1, 1, 1, 1, 1, 1, 1, 1, 1, 1, 1, 1, 1, 1, 1, 1, 1,\n",
       "       1, 1, 1, 1, 1, 1, 1, 1, 1, 1, 1, 1, 1, 1, 1, 1, 0, 0, 0, 0, 0, 0,\n",
       "       0, 0, 0, 0, 0, 0, 0, 0, 0, 0, 0, 0, 0, 0, 0, 0, 0, 0, 0, 0, 0, 0,\n",
       "       0, 0, 0, 0, 0, 0, 0, 0, 0, 0, 0, 0, 0, 0, 0, 0, 0, 0, 0, 0, 0, 0,\n",
       "       0, 0, 0, 0, 0, 0, 0, 0, 0, 0, 0, 0, 0, 0, 0, 0, 0, 0, 0, 0, 0, 0,\n",
       "       0, 0, 0, 0, 0, 0, 0, 0, 0, 0, 0, 0, 0, 0, 0, 0, 0, 0, 0, 0, 0, 0,\n",
       "       0, 0, 0, 0, 0, 0, 1, 1, 1, 1, 1, 1, 1, 1, 1, 1, 1, 1, 1, 1, 1, 1,\n",
       "       1, 1, 1, 1, 1, 1, 1, 1, 1, 1, 1, 1, 1, 1, 1, 1, 1, 1, 1, 1, 1, 1,\n",
       "       1, 1, 1, 1, 1, 1, 1, 1, 1, 1, 1, 1, 1, 1, 1, 1, 1, 1, 1, 1, 1, 1,\n",
       "       1, 1, 1, 1, 1, 1, 1, 1, 1, 1, 1, 1, 1, 1, 1, 1, 1, 1, 1, 1, 1, 1,\n",
       "       1, 1, 1, 1, 1, 1, 1, 1, 1, 1, 1, 1, 1, 1, 1, 1, 1, 1, 0, 0, 0, 0,\n",
       "       0, 0, 0, 0, 0, 0, 0, 0, 0, 0, 0, 0, 0, 0, 0, 0, 0, 0, 0, 0, 0, 0,\n",
       "       0, 0, 0, 0, 0, 0, 0, 0, 0, 0, 0, 0, 0, 0, 0, 0, 0, 0, 0, 0, 0, 0,\n",
       "       0, 0, 0, 0, 0, 0, 0, 0, 0, 0, 0, 0, 0, 0, 0, 0, 0, 0, 0, 0, 0, 0,\n",
       "       0, 0, 0, 0, 0, 0, 0, 0, 0, 0, 0, 0, 0, 0, 0, 0, 0, 0, 0, 0, 0, 0,\n",
       "       0, 0, 0, 0, 0, 0, 0, 0, 1, 1, 1, 1, 1, 1, 1, 1, 1, 1, 1, 1, 1, 1,\n",
       "       1, 1, 1, 1, 1, 1, 1, 1, 1, 1, 1, 1, 1, 1, 1, 1, 1, 1, 1, 1, 1, 1,\n",
       "       1, 1, 1, 1, 1, 1, 1, 1, 1, 1, 1, 1, 1, 1, 1, 1, 1, 1, 1, 1, 1, 1,\n",
       "       1, 1, 1, 1, 1, 1, 1, 1, 1, 1, 1, 1, 1, 1, 1, 1, 1, 1, 1, 1, 1, 1,\n",
       "       1, 1, 1, 1, 1, 1, 1, 1, 1, 1, 1, 1, 1, 1, 1, 1, 1, 1, 1, 1, 0, 0,\n",
       "       0, 0, 0, 0, 0, 0, 0, 0, 0, 0, 0, 0, 0, 0, 0, 0, 0, 0, 0, 0, 0, 0,\n",
       "       0, 0, 0, 0, 0, 0, 0, 0, 0, 0, 0, 0, 0, 0, 0, 0, 0, 0, 0, 0, 0, 0,\n",
       "       0, 0, 0, 0, 0, 0, 0, 0, 0, 0, 0, 0, 0, 0, 0, 0, 0, 0, 0, 0, 0, 0,\n",
       "       0, 0, 0, 0, 0, 0, 0, 0, 0, 0, 0, 0, 0, 0, 0, 0, 0, 0, 0, 0, 0, 0,\n",
       "       0, 0, 0, 0, 0, 0, 0, 0, 0, 0])"
      ]
     },
     "execution_count": 149,
     "metadata": {},
     "output_type": "execute_result"
    }
   ],
   "source": [
    "y_am"
   ]
  },
  {
   "cell_type": "code",
   "execution_count": 150,
   "metadata": {},
   "outputs": [
    {
     "name": "stdout",
     "output_type": "stream",
     "text": [
      "Epoch 1/50\n",
      "32/32 [==============================] - 1s 3ms/step - loss: 0.7708 - accuracy: 0.5050\n",
      "Epoch 2/50\n",
      "32/32 [==============================] - 0s 4ms/step - loss: 0.6421 - accuracy: 0.6500\n",
      "Epoch 3/50\n",
      "32/32 [==============================] - 0s 4ms/step - loss: 0.6095 - accuracy: 0.6680\n",
      "Epoch 4/50\n",
      "32/32 [==============================] - 0s 4ms/step - loss: 0.5774 - accuracy: 0.6950\n",
      "Epoch 5/50\n",
      "32/32 [==============================] - 0s 4ms/step - loss: 0.5466 - accuracy: 0.7240\n",
      "Epoch 6/50\n",
      "32/32 [==============================] - 0s 3ms/step - loss: 0.5261 - accuracy: 0.7520\n",
      "Epoch 7/50\n",
      "32/32 [==============================] - 0s 3ms/step - loss: 0.5014 - accuracy: 0.7700\n",
      "Epoch 8/50\n",
      "32/32 [==============================] - 0s 3ms/step - loss: 0.4746 - accuracy: 0.7780\n",
      "Epoch 9/50\n",
      "32/32 [==============================] - 0s 3ms/step - loss: 0.4525 - accuracy: 0.8090\n",
      "Epoch 10/50\n",
      "32/32 [==============================] - 0s 3ms/step - loss: 0.4316 - accuracy: 0.8270\n",
      "Epoch 11/50\n",
      "32/32 [==============================] - 0s 3ms/step - loss: 0.4067 - accuracy: 0.8320\n",
      "Epoch 12/50\n",
      "32/32 [==============================] - 0s 3ms/step - loss: 0.3894 - accuracy: 0.8200\n",
      "Epoch 13/50\n",
      "32/32 [==============================] - 0s 3ms/step - loss: 0.3720 - accuracy: 0.8510\n",
      "Epoch 14/50\n",
      "32/32 [==============================] - 0s 3ms/step - loss: 0.3592 - accuracy: 0.8480\n",
      "Epoch 15/50\n",
      "32/32 [==============================] - 0s 4ms/step - loss: 0.3386 - accuracy: 0.8630\n",
      "Epoch 16/50\n",
      "32/32 [==============================] - 0s 4ms/step - loss: 0.3222 - accuracy: 0.8870\n",
      "Epoch 17/50\n",
      "32/32 [==============================] - 0s 4ms/step - loss: 0.3066 - accuracy: 0.8860\n",
      "Epoch 18/50\n",
      "32/32 [==============================] - 0s 3ms/step - loss: 0.2973 - accuracy: 0.8780\n",
      "Epoch 19/50\n",
      "32/32 [==============================] - 0s 3ms/step - loss: 0.2772 - accuracy: 0.8920\n",
      "Epoch 20/50\n",
      "32/32 [==============================] - 0s 3ms/step - loss: 0.2707 - accuracy: 0.9010\n",
      "Epoch 21/50\n",
      "32/32 [==============================] - 0s 3ms/step - loss: 0.2608 - accuracy: 0.9020\n",
      "Epoch 22/50\n",
      "32/32 [==============================] - 0s 3ms/step - loss: 0.2479 - accuracy: 0.9180\n",
      "Epoch 23/50\n",
      "32/32 [==============================] - 0s 4ms/step - loss: 0.2379 - accuracy: 0.9090\n",
      "Epoch 24/50\n",
      "32/32 [==============================] - 0s 4ms/step - loss: 0.2241 - accuracy: 0.9130\n",
      "Epoch 25/50\n",
      "32/32 [==============================] - 0s 3ms/step - loss: 0.2128 - accuracy: 0.9250\n",
      "Epoch 26/50\n",
      "32/32 [==============================] - 0s 3ms/step - loss: 0.2040 - accuracy: 0.9220\n",
      "Epoch 27/50\n",
      "32/32 [==============================] - 0s 3ms/step - loss: 0.2013 - accuracy: 0.9240\n",
      "Epoch 28/50\n",
      "32/32 [==============================] - 0s 3ms/step - loss: 0.1913 - accuracy: 0.9190\n",
      "Epoch 29/50\n",
      "32/32 [==============================] - 0s 3ms/step - loss: 0.1909 - accuracy: 0.9350\n",
      "Epoch 30/50\n",
      "32/32 [==============================] - 0s 3ms/step - loss: 0.1795 - accuracy: 0.9300\n",
      "Epoch 31/50\n",
      "32/32 [==============================] - 0s 4ms/step - loss: 0.1808 - accuracy: 0.9320\n",
      "Epoch 32/50\n",
      "32/32 [==============================] - 0s 4ms/step - loss: 0.1632 - accuracy: 0.9440\n",
      "Epoch 33/50\n",
      "32/32 [==============================] - 0s 4ms/step - loss: 0.1663 - accuracy: 0.9480\n",
      "Epoch 34/50\n",
      "32/32 [==============================] - 0s 4ms/step - loss: 0.1529 - accuracy: 0.9460\n",
      "Epoch 35/50\n",
      "32/32 [==============================] - 0s 4ms/step - loss: 0.1457 - accuracy: 0.9530\n",
      "Epoch 36/50\n",
      "32/32 [==============================] - 0s 3ms/step - loss: 0.1494 - accuracy: 0.9470\n",
      "Epoch 37/50\n",
      "32/32 [==============================] - 0s 3ms/step - loss: 0.1393 - accuracy: 0.9540\n",
      "Epoch 38/50\n",
      "32/32 [==============================] - 0s 3ms/step - loss: 0.1403 - accuracy: 0.9480\n",
      "Epoch 39/50\n",
      "32/32 [==============================] - 0s 3ms/step - loss: 0.1254 - accuracy: 0.9600\n",
      "Epoch 40/50\n",
      "32/32 [==============================] - 0s 4ms/step - loss: 0.1188 - accuracy: 0.9700\n",
      "Epoch 41/50\n",
      "32/32 [==============================] - 0s 3ms/step - loss: 0.1165 - accuracy: 0.9670\n",
      "Epoch 42/50\n",
      "32/32 [==============================] - 0s 3ms/step - loss: 0.1106 - accuracy: 0.9650\n",
      "Epoch 43/50\n",
      "32/32 [==============================] - 0s 3ms/step - loss: 0.1090 - accuracy: 0.9730\n",
      "Epoch 44/50\n",
      "32/32 [==============================] - 0s 3ms/step - loss: 0.1076 - accuracy: 0.9700\n",
      "Epoch 45/50\n",
      "32/32 [==============================] - 0s 3ms/step - loss: 0.1057 - accuracy: 0.9680\n",
      "Epoch 46/50\n",
      "32/32 [==============================] - 0s 3ms/step - loss: 0.0986 - accuracy: 0.9720\n",
      "Epoch 47/50\n",
      "32/32 [==============================] - 0s 3ms/step - loss: 0.0945 - accuracy: 0.9710\n",
      "Epoch 48/50\n",
      "32/32 [==============================] - 0s 3ms/step - loss: 0.0947 - accuracy: 0.9720\n",
      "Epoch 49/50\n",
      "32/32 [==============================] - 0s 4ms/step - loss: 0.0908 - accuracy: 0.9750\n",
      "Epoch 50/50\n",
      "32/32 [==============================] - 0s 4ms/step - loss: 0.0849 - accuracy: 0.9790\n"
     ]
    }
   ],
   "source": [
    "am = get_attack_model()\n",
    "am.compile(optimizer=\"adam\", loss=tf.keras.losses.BinaryCrossentropy(from_logits=True), metrics=['accuracy'])\n",
    "\n",
    "h_attack = am.fit(\n",
    "    x_am, y_am,\n",
    "    epochs=50,\n",
    "    shuffle=True,\n",
    ")"
   ]
  },
  {
   "cell_type": "code",
   "execution_count": 151,
   "metadata": {},
   "outputs": [],
   "source": [
    "fpr_threshold = 0.9"
   ]
  },
  {
   "cell_type": "code",
   "execution_count": 152,
   "metadata": {},
   "outputs": [
    {
     "data": {
      "application/vnd.jupyter.widget-view+json": {
       "model_id": "1af894753e684e20a8370842b9b259b5",
       "version_major": 2,
       "version_minor": 0
      },
      "text/plain": [
       "HBox(children=(IntProgress(value=0, max=200), HTML(value='')))"
      ]
     },
     "metadata": {},
     "output_type": "display_data"
    },
    {
     "name": "stdout",
     "output_type": "stream",
     "text": [
      "\n",
      "166 34\n"
     ]
    }
   ],
   "source": [
    "tp = 0\n",
    "fn = 0\n",
    "for i in tqdm(range(200)):\n",
    "    target_pred = model.predict(np.expand_dims(x_train[i],0), verbose=0)\n",
    "    attack_pred = am.predict(target_pred, verbose=0)\n",
    "    if attack_pred[0][0]>fpr_threshold:\n",
    "        tp += 1\n",
    "    else:\n",
    "        fn += 1\n",
    "print(tp, fn)"
   ]
  },
  {
   "cell_type": "code",
   "execution_count": 153,
   "metadata": {},
   "outputs": [
    {
     "data": {
      "application/vnd.jupyter.widget-view+json": {
       "model_id": "43e09c15b3844b42ba1f1ecb4bc4800a",
       "version_major": 2,
       "version_minor": 0
      },
      "text/plain": [
       "HBox(children=(IntProgress(value=0, max=200), HTML(value='')))"
      ]
     },
     "metadata": {},
     "output_type": "display_data"
    },
    {
     "name": "stdout",
     "output_type": "stream",
     "text": [
      "\n",
      "148 52\n"
     ]
    }
   ],
   "source": [
    "fp = 0\n",
    "tn = 0\n",
    "for i in tqdm(range(200)):\n",
    "    target_pred = model.predict(np.expand_dims(x_test[i],0), verbose=0)\n",
    "    attack_pred = am.predict(target_pred, verbose=0)\n",
    "    if attack_pred[0][0]>fpr_threshold:\n",
    "        fp += 1\n",
    "    else:\n",
    "        tn += 1\n",
    "print(fp, tn)"
   ]
  },
  {
   "cell_type": "code",
   "execution_count": 154,
   "metadata": {},
   "outputs": [
    {
     "data": {
      "text/plain": [
       "0.545"
      ]
     },
     "execution_count": 154,
     "metadata": {},
     "output_type": "execute_result"
    }
   ],
   "source": [
    "(tp+tn)/(tp+tn+fp+fn)"
   ]
  },
  {
   "cell_type": "code",
   "execution_count": null,
   "metadata": {},
   "outputs": [],
   "source": []
  }
 ],
 "metadata": {
  "kernelspec": {
   "display_name": "Python 3",
   "language": "python",
   "name": "python3"
  },
  "language_info": {
   "codemirror_mode": {
    "name": "ipython",
    "version": 3
   },
   "file_extension": ".py",
   "mimetype": "text/x-python",
   "name": "python",
   "nbconvert_exporter": "python",
   "pygments_lexer": "ipython3",
   "version": "3.8.10"
  }
 },
 "nbformat": 4,
 "nbformat_minor": 2
}
