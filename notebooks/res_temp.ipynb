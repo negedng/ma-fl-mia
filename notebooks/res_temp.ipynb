{
 "cells": [
  {
   "cell_type": "code",
   "execution_count": 11,
   "metadata": {},
   "outputs": [],
   "source": [
    "import matplotlib.pyplot as plt\n",
    "%matplotlib inline\n",
    "import os"
   ]
  },
  {
   "cell_type": "code",
   "execution_count": 8,
   "metadata": {},
   "outputs": [],
   "source": [
    "model_path = \"/data/models/ma-fl-mia/federated/20230424-221925\""
   ]
  },
  {
   "cell_type": "code",
   "execution_count": 9,
   "metadata": {},
   "outputs": [],
   "source": [
    "import pandas as pd\n",
    "history = pd.read_csv(os.path.join(model_path,\"log_history.csv\"))"
   ]
  },
  {
   "cell_type": "code",
   "execution_count": 14,
   "metadata": {},
   "outputs": [
    {
     "data": {
      "image/png": "[encoded data removed]",
      "text/plain": [
       "<Figure size 432x288 with 1 Axes>"
      ]
     },
     "metadata": {
      "needs_background": "light"
     },
     "output_type": "display_data"
    }
   ],
   "source": [
    "history.plot(x='epoch',y=\"val_loss\")\n",
    "plt.show()"
   ]
  },
  {
   "cell_type": "code",
   "execution_count": 29,
   "metadata": {},
   "outputs": [
    {
     "data": {
      "text/plain": [
       "1.1342425346374512"
      ]
     },
     "execution_count": 29,
     "metadata": {},
     "output_type": "execute_result"
    }
   ],
   "source": [
    "history[history['epoch']==10]['val_loss'].iloc[0]"
   ]
  },
  {
   "cell_type": "code",
   "execution_count": 16,
   "metadata": {},
   "outputs": [],
   "source": [
    "import json\n",
    "with open(os.path.join(model_path, \"all_model_results.json\")) as f:\n",
    "    res = json.load(f)"
   ]
  },
  {
   "cell_type": "code",
   "execution_count": 33,
   "metadata": {},
   "outputs": [
    {
     "name": "stdout",
     "output_type": "stream",
     "text": [
      "100\n",
      "90\n",
      "30\n",
      "120\n",
      "50\n",
      "40\n",
      "60\n",
      "20\n",
      "110\n",
      "10\n",
      "70\n",
      "80\n"
     ]
    },
    {
     "data": {
      "text/html": [
       "<div>\n",
       "<style scoped>\n",
       "    .dataframe tbody tr th:only-of-type {\n",
       "        vertical-align: middle;\n",
       "    }\n",
       "\n",
       "    .dataframe tbody tr th {\n",
       "        vertical-align: top;\n",
       "    }\n",
       "\n",
       "    .dataframe thead th {\n",
       "        text-align: right;\n",
       "    }\n",
       "</style>\n",
       "<table border=\"1\" class=\"dataframe\">\n",
       "  <thead>\n",
       "    <tr style=\"text-align: right;\">\n",
       "      <th></th>\n",
       "      <th>epoch</th>\n",
       "      <th>test_acc</th>\n",
       "      <th>train_acc</th>\n",
       "      <th>train_acc_9000_63</th>\n",
       "      <th>adv_std_9000_63</th>\n",
       "      <th>train_acc_9000_48</th>\n",
       "      <th>adv_std_9000_48</th>\n",
       "      <th>train_acc_1000_63</th>\n",
       "      <th>adv_std_1000_63</th>\n",
       "      <th>train_acc_1000_48</th>\n",
       "      <th>adv_std_1000_48</th>\n",
       "    </tr>\n",
       "  </thead>\n",
       "  <tbody>\n",
       "    <tr>\n",
       "      <th>0</th>\n",
       "      <td>100</td>\n",
       "      <td>0.7761</td>\n",
       "      <td>0.95558</td>\n",
       "      <td>0.999889</td>\n",
       "      <td>25.348148</td>\n",
       "      <td>0.892389</td>\n",
       "      <td>12.016667</td>\n",
       "      <td>0.999000</td>\n",
       "      <td>22.966667</td>\n",
       "      <td>0.8610</td>\n",
       "      <td>5.70</td>\n",
       "    </tr>\n",
       "    <tr>\n",
       "      <th>1</th>\n",
       "      <td>90</td>\n",
       "      <td>0.7715</td>\n",
       "      <td>0.95268</td>\n",
       "      <td>0.999667</td>\n",
       "      <td>27.977778</td>\n",
       "      <td>0.885944</td>\n",
       "      <td>11.844444</td>\n",
       "      <td>0.997333</td>\n",
       "      <td>24.766667</td>\n",
       "      <td>0.8520</td>\n",
       "      <td>5.75</td>\n",
       "    </tr>\n",
       "    <tr>\n",
       "      <th>2</th>\n",
       "      <td>30</td>\n",
       "      <td>0.7440</td>\n",
       "      <td>0.83338</td>\n",
       "      <td>0.862074</td>\n",
       "      <td>11.448148</td>\n",
       "      <td>0.793667</td>\n",
       "      <td>4.677778</td>\n",
       "      <td>0.852000</td>\n",
       "      <td>8.400000</td>\n",
       "      <td>0.7755</td>\n",
       "      <td>2.05</td>\n",
       "    </tr>\n",
       "    <tr>\n",
       "      <th>3</th>\n",
       "      <td>120</td>\n",
       "      <td>0.7752</td>\n",
       "      <td>0.95740</td>\n",
       "      <td>1.000000</td>\n",
       "      <td>24.633333</td>\n",
       "      <td>0.897333</td>\n",
       "      <td>12.894444</td>\n",
       "      <td>0.999000</td>\n",
       "      <td>22.300000</td>\n",
       "      <td>0.8605</td>\n",
       "      <td>6.95</td>\n",
       "    </tr>\n",
       "    <tr>\n",
       "      <th>4</th>\n",
       "      <td>50</td>\n",
       "      <td>0.7682</td>\n",
       "      <td>0.92796</td>\n",
       "      <td>0.979778</td>\n",
       "      <td>25.048148</td>\n",
       "      <td>0.853889</td>\n",
       "      <td>7.705556</td>\n",
       "      <td>0.970667</td>\n",
       "      <td>21.800000</td>\n",
       "      <td>0.8310</td>\n",
       "      <td>3.15</td>\n",
       "    </tr>\n",
       "    <tr>\n",
       "      <th>5</th>\n",
       "      <td>40</td>\n",
       "      <td>0.7649</td>\n",
       "      <td>0.89156</td>\n",
       "      <td>0.933370</td>\n",
       "      <td>18.081481</td>\n",
       "      <td>0.831444</td>\n",
       "      <td>6.022222</td>\n",
       "      <td>0.928667</td>\n",
       "      <td>15.633333</td>\n",
       "      <td>0.8125</td>\n",
       "      <td>3.40</td>\n",
       "    </tr>\n",
       "    <tr>\n",
       "      <th>6</th>\n",
       "      <td>60</td>\n",
       "      <td>0.7716</td>\n",
       "      <td>0.94358</td>\n",
       "      <td>0.994259</td>\n",
       "      <td>28.629630</td>\n",
       "      <td>0.870667</td>\n",
       "      <td>9.283333</td>\n",
       "      <td>0.991333</td>\n",
       "      <td>24.500000</td>\n",
       "      <td>0.8440</td>\n",
       "      <td>3.45</td>\n",
       "    </tr>\n",
       "    <tr>\n",
       "      <th>7</th>\n",
       "      <td>20</td>\n",
       "      <td>0.7104</td>\n",
       "      <td>0.75000</td>\n",
       "      <td>0.763259</td>\n",
       "      <td>5.133333</td>\n",
       "      <td>0.730889</td>\n",
       "      <td>2.272222</td>\n",
       "      <td>0.758000</td>\n",
       "      <td>1.466667</td>\n",
       "      <td>0.7310</td>\n",
       "      <td>0.10</td>\n",
       "    </tr>\n",
       "    <tr>\n",
       "      <th>8</th>\n",
       "      <td>110</td>\n",
       "      <td>0.7692</td>\n",
       "      <td>0.95556</td>\n",
       "      <td>0.999926</td>\n",
       "      <td>25.659259</td>\n",
       "      <td>0.892833</td>\n",
       "      <td>12.666667</td>\n",
       "      <td>0.998000</td>\n",
       "      <td>22.900000</td>\n",
       "      <td>0.8575</td>\n",
       "      <td>6.65</td>\n",
       "    </tr>\n",
       "    <tr>\n",
       "      <th>9</th>\n",
       "      <td>10</td>\n",
       "      <td>0.6059</td>\n",
       "      <td>0.61840</td>\n",
       "      <td>0.624704</td>\n",
       "      <td>1.729630</td>\n",
       "      <td>0.609444</td>\n",
       "      <td>0.861111</td>\n",
       "      <td>0.609667</td>\n",
       "      <td>-2.533333</td>\n",
       "      <td>0.6270</td>\n",
       "      <td>-1.55</td>\n",
       "    </tr>\n",
       "    <tr>\n",
       "      <th>10</th>\n",
       "      <td>70</td>\n",
       "      <td>0.7728</td>\n",
       "      <td>0.94678</td>\n",
       "      <td>0.998519</td>\n",
       "      <td>28.833333</td>\n",
       "      <td>0.873611</td>\n",
       "      <td>10.922222</td>\n",
       "      <td>0.995333</td>\n",
       "      <td>25.866667</td>\n",
       "      <td>0.8340</td>\n",
       "      <td>5.40</td>\n",
       "    </tr>\n",
       "    <tr>\n",
       "      <th>11</th>\n",
       "      <td>80</td>\n",
       "      <td>0.7718</td>\n",
       "      <td>0.95042</td>\n",
       "      <td>0.999519</td>\n",
       "      <td>27.155556</td>\n",
       "      <td>0.879944</td>\n",
       "      <td>10.872222</td>\n",
       "      <td>0.997000</td>\n",
       "      <td>25.100000</td>\n",
       "      <td>0.8520</td>\n",
       "      <td>5.65</td>\n",
       "    </tr>\n",
       "  </tbody>\n",
       "</table>\n",
       "</div>"
      ],
      "text/plain": [
       "    epoch  test_acc  train_acc  train_acc_9000_63  adv_std_9000_63  \\\n",
       "0     100    0.7761    0.95558           0.999889        25.348148   \n",
       "1      90    0.7715    0.95268           0.999667        27.977778   \n",
       "2      30    0.7440    0.83338           0.862074        11.448148   \n",
       "3     120    0.7752    0.95740           1.000000        24.633333   \n",
       "4      50    0.7682    0.92796           0.979778        25.048148   \n",
       "5      40    0.7649    0.89156           0.933370        18.081481   \n",
       "6      60    0.7716    0.94358           0.994259        28.629630   \n",
       "7      20    0.7104    0.75000           0.763259         5.133333   \n",
       "8     110    0.7692    0.95556           0.999926        25.659259   \n",
       "9      10    0.6059    0.61840           0.624704         1.729630   \n",
       "10     70    0.7728    0.94678           0.998519        28.833333   \n",
       "11     80    0.7718    0.95042           0.999519        27.155556   \n",
       "\n",
       "    train_acc_9000_48  adv_std_9000_48  train_acc_1000_63  adv_std_1000_63  \\\n",
       "0            0.892389        12.016667           0.999000        22.966667   \n",
       "1            0.885944        11.844444           0.997333        24.766667   \n",
       "2            0.793667         4.677778           0.852000         8.400000   \n",
       "3            0.897333        12.894444           0.999000        22.300000   \n",
       "4            0.853889         7.705556           0.970667        21.800000   \n",
       "5            0.831444         6.022222           0.928667        15.633333   \n",
       "6            0.870667         9.283333           0.991333        24.500000   \n",
       "7            0.730889         2.272222           0.758000         1.466667   \n",
       "8            0.892833        12.666667           0.998000        22.900000   \n",
       "9            0.609444         0.861111           0.609667        -2.533333   \n",
       "10           0.873611        10.922222           0.995333        25.866667   \n",
       "11           0.879944        10.872222           0.997000        25.100000   \n",
       "\n",
       "    train_acc_1000_48  adv_std_1000_48  \n",
       "0              0.8610             5.70  \n",
       "1              0.8520             5.75  \n",
       "2              0.7755             2.05  \n",
       "3              0.8605             6.95  \n",
       "4              0.8310             3.15  \n",
       "5              0.8125             3.40  \n",
       "6              0.8440             3.45  \n",
       "7              0.7310             0.10  \n",
       "8              0.8575             6.65  \n",
       "9              0.6270            -1.55  \n",
       "10             0.8340             5.40  \n",
       "11             0.8520             5.65  "
      ]
     },
     "execution_count": 33,
     "metadata": {},
     "output_type": "execute_result"
    }
   ],
   "source": [
    "r = []\n",
    "for k,v in res.items():\n",
    "    try:\n",
    "        epoch = k.split(\"_\")[-1]\n",
    "        int(epoch)\n",
    "        print(epoch)\n",
    "        a = {}\n",
    "        a[\"epoch\"] = int(epoch)\n",
    "        a[\"test_acc\"] = v['global']['test_acc']\n",
    "        a[\"train_acc\"] = v['global']['train_acc']\n",
    "        ta_agg = 0\n",
    "        adv_agg = 0\n",
    "        for i in [0,1,2]:\n",
    "            ta_agg += v[\"local\"][i][\"train_acc\"]\n",
    "            adv_agg += v[\"local\"][i][\"adv_std\"]\n",
    "        ta_agg = ta_agg / 3\n",
    "        adv_agg = adv_agg / 3\n",
    "        a[\"train_acc_9000_63\"] = ta_agg\n",
    "        a[\"adv_std_9000_63\"] = adv_agg\n",
    "        \n",
    "        ta_agg = 0\n",
    "        adv_agg = 0\n",
    "        for i in [3,4]:\n",
    "            ta_agg += v[\"local\"][i][\"train_acc\"]\n",
    "            adv_agg += v[\"local\"][i][\"adv_std\"]\n",
    "        ta_agg = ta_agg / 2\n",
    "        adv_agg = adv_agg / 2\n",
    "        a[\"train_acc_9000_48\"] = ta_agg\n",
    "        a[\"adv_std_9000_48\"] = adv_agg\n",
    " \n",
    "        ta_agg = 0\n",
    "        adv_agg = 0\n",
    "        for i in [5,6,7]:\n",
    "            ta_agg += v[\"local\"][i][\"train_acc\"]\n",
    "            adv_agg += v[\"local\"][i][\"adv_std\"]\n",
    "        ta_agg = ta_agg / 3\n",
    "        adv_agg = adv_agg / 3\n",
    "        a[\"train_acc_1000_63\"] = ta_agg\n",
    "        a[\"adv_std_1000_63\"] = adv_agg\n",
    "\n",
    "        ta_agg = 0\n",
    "        adv_agg = 0\n",
    "        for i in [8,9]:\n",
    "            ta_agg += v[\"local\"][i][\"train_acc\"]\n",
    "            adv_agg += v[\"local\"][i][\"adv_std\"]\n",
    "        ta_agg = ta_agg / 2\n",
    "        adv_agg = adv_agg / 2\n",
    "        a[\"train_acc_1000_48\"] = ta_agg\n",
    "        a[\"adv_std_1000_48\"] = adv_agg\n",
    "        \n",
    "        r.append(a)\n",
    "    except:\n",
    "        pass\n",
    "r = pd.DataFrame(r)\n",
    "r"
   ]
  },
  {
   "cell_type": "code",
   "execution_count": 36,
   "metadata": {},
   "outputs": [
    {
     "data": {
      "text/plain": [
       "<AxesSubplot:xlabel='epoch'>"
      ]
     },
     "execution_count": 36,
     "metadata": {},
     "output_type": "execute_result"
    },
    {
     "data": {
      "image/png": "[encoded data removed]",
      "text/plain": [
       "<Figure size 432x288 with 1 Axes>"
      ]
     },
     "metadata": {
      "needs_background": "light"
     },
     "output_type": "display_data"
    }
   ],
   "source": [
    "r.sort_values(\"epoch\").plot(x=\"epoch\", y=['train_acc_9000_63', 'train_acc_9000_48', 'train_acc_1000_63', 'train_acc_1000_48'])"
   ]
  },
  {
   "cell_type": "code",
   "execution_count": 37,
   "metadata": {},
   "outputs": [
    {
     "data": {
      "text/plain": [
       "<AxesSubplot:xlabel='epoch'>"
      ]
     },
     "execution_count": 37,
     "metadata": {},
     "output_type": "execute_result"
    },
    {
     "data": {
      "image/png": "[encoded data removed]",
      "text/plain": [
       "<Figure size 432x288 with 1 Axes>"
      ]
     },
     "metadata": {
      "needs_background": "light"
     },
     "output_type": "display_data"
    }
   ],
   "source": [
    "r.sort_values(\"epoch\").plot(x=\"epoch\", y=['adv_std_9000_63', 'adv_std_9000_48', 'adv_std_1000_63', 'adv_std_1000_48'])"
   ]
  },
  {
   "cell_type": "code",
   "execution_count": null,
   "metadata": {},
   "outputs": [],
   "source": []
  }
 ],
 "metadata": {
  "kernelspec": {
   "display_name": "Python 3",
   "language": "python",
   "name": "python3"
  },
  "language_info": {
   "codemirror_mode": {
    "name": "ipython",
    "version": 3
   },
   "file_extension": ".py",
   "mimetype": "text/x-python",
   "name": "python",
   "nbconvert_exporter": "python",
   "pygments_lexer": "ipython3",
   "version": "3.8.10"
  }
 },
 "nbformat": 4,
 "nbformat_minor": 2
}
